{
 "cells": [
  {
   "cell_type": "code",
   "execution_count": null,
   "id": "eeb7489f",
   "metadata": {},
   "outputs": [],
   "source": [
    "import pandas as pd\n",
    "import os"
   ]
  },
  {
   "cell_type": "code",
   "execution_count": null,
   "id": "7be6ed91",
   "metadata": {},
   "outputs": [],
   "source": [
    "INPUT_PATH = \"../files/input/\"\n",
    "OUTPUT_PATH = \"../files/output/\"\n",
    "\n",
    "TRAIN_FILENAME = os.path.join(INPUT_PATH, \"train_data.csv.zip\")\n",
    "TEST_FILENAME = os.path.join(INPUT_PATH, \"test_data.csv.zip\")"
   ]
  },
  {
   "cell_type": "code",
   "execution_count": null,
   "id": "5a2e9ac1",
   "metadata": {},
   "outputs": [],
   "source": [
    "train = pd.read_csv(TRAIN_FILENAME, compression=\"zip\")\n",
    "train.sample(5)"
   ]
  },
  {
   "cell_type": "code",
   "execution_count": null,
   "id": "d9fb5f09",
   "metadata": {},
   "outputs": [],
   "source": [
    "test = pd.read_csv(TEST_FILENAME, compression=\"zip\")\n",
    "test.sample(5)"
   ]
  },
  {
   "cell_type": "code",
   "execution_count": null,
   "id": "deaa6c6d",
   "metadata": {},
   "outputs": [],
   "source": [
    "def clean_dataframe(df):\n",
    "    df = df.copy()\n",
    "    # Duplicate column\n",
    "    df[\"default\"] = df[\"default payment next month\"]\n",
    "    # Drop columns\n",
    "    df = df.drop([\"ID\", \"default payment next month\"], axis=1)\n",
    "    # Filter valid records\n",
    "    is_valid = (df[\"EDUCATION\"] != 0) & (df[\"MARRIAGE\"] != 0)\n",
    "    df = df[is_valid]\n",
    "    # EDUCATION grouped\n",
    "    df[\"EDUCATION\"] = df[\"EDUCATION\"].apply(lambda x: x if x < 4 else 4)\n",
    "    return df"
   ]
  },
  {
   "cell_type": "code",
   "execution_count": null,
   "id": "dd232da9",
   "metadata": {},
   "outputs": [],
   "source": [
    "df_train = clean_dataframe(train)\n",
    "df_train.sample(5)"
   ]
  },
  {
   "cell_type": "code",
   "execution_count": null,
   "id": "517bb746",
   "metadata": {},
   "outputs": [],
   "source": [
    "df_test = clean_dataframe(test)\n",
    "df_test.sample(5)"
   ]
  },
  {
   "cell_type": "code",
   "execution_count": null,
   "id": "7eccce41",
   "metadata": {},
   "outputs": [],
   "source": [
    "x_train = df_train.drop(columns=[\"default\"])\n",
    "y_train = df_train[\"default\"]\n",
    "\n",
    "x_test = df_test.drop(columns=[\"default\"])\n",
    "y_test = df_test[\"default\"]"
   ]
  },
  {
   "cell_type": "code",
   "execution_count": null,
   "id": "86ebe419",
   "metadata": {},
   "outputs": [],
   "source": [
    "from sklearn.compose import ColumnTransformer\n",
    "from sklearn.pipeline import Pipeline\n",
    "from sklearn.preprocessing import OneHotEncoder\n",
    "from sklearn.ensemble import RandomForestClassifier\n",
    "\n",
    "\n",
    "categorical_cols = [\"SEX\", \"EDUCATION\", \"MARRIAGE\"]\n",
    "preprocessor = ColumnTransformer(\n",
    "    transformers=[\n",
    "        (\"cat\", OneHotEncoder(handle_unknown=\"ignore\"), categorical_cols)\n",
    "    ],\n",
    "    remainder='passthrough'\n",
    ")\n",
    "\n",
    "pipeline = Pipeline([\n",
    "    (\"preprocessor\", preprocessor),\n",
    "    (\"classifier\", RandomForestClassifier(random_state=42))\n",
    "])"
   ]
  },
  {
   "cell_type": "code",
   "execution_count": null,
   "id": "75681f92",
   "metadata": {},
   "outputs": [],
   "source": [
    "from sklearn.model_selection import GridSearchCV\n",
    "\n",
    "param_grid = {\n",
    "    \"classifier__n_estimators\": [50, 100, 200],\n",
    "    \"classifier__max_depth\": [None, 5, 10, 20],\n",
    "    \"classifier__min_samples_split\": [2, 5, 10],\n",
    "    \"classifier__min_samples_leaf\": [1, 2, 4],\n",
    "}\n",
    "\n",
    "grid_search = GridSearchCV(pipeline, param_grid, cv=10, scoring='balanced_accuracy', n_jobs=-1)\n",
    "grid_search.fit(x_train, y_train)"
   ]
  },
  {
   "cell_type": "code",
   "execution_count": null,
   "id": "e0cb3dc7",
   "metadata": {},
   "outputs": [],
   "source": [
    "import gzip\n",
    "import pickle\n",
    "        \n",
    "with gzip.open(\"../files/models/model.pkl.gz\", \"wb\") as f:\n",
    "    pickle.dump(grid_search, f)"
   ]
  },
  {
   "cell_type": "code",
   "execution_count": null,
   "id": "67cc3370",
   "metadata": {},
   "outputs": [],
   "source": [
    "from sklearn.metrics import balanced_accuracy_score, confusion_matrix, f1_score, precision_score, recall_score\n",
    "\n",
    "def evaluate_model(model, X, y, dataset_type):\n",
    "    y_pred = model.predict(X)\n",
    "\n",
    "    precision = precision_score(y, y_pred)\n",
    "    balanced_acc = balanced_accuracy_score(y, y_pred)\n",
    "    recall = recall_score(y, y_pred)\n",
    "    f1 = f1_score(y, y_pred)\n",
    "\n",
    "    metrics = {\n",
    "        'type': 'metrics',\n",
    "        'dataset': dataset_type,\n",
    "        'precision': round(precision, 4),\n",
    "        'balanced_accuracy': round(balanced_acc, 4),\n",
    "        'recall': round(recall, 4),\n",
    "        'f1_score': round(f1, 4)\n",
    "    }\n",
    "\n",
    "    cm = confusion_matrix(y, y_pred)\n",
    "    cm_dict = {\n",
    "        'type': 'cm_matrix',\n",
    "        'dataset': dataset_type,\n",
    "        'true_0': {'predicted_0': int(cm[0, 0]), 'predicted_1': int(cm[0, 1])},\n",
    "        'true_1': {'predicted_0': int(cm[1, 0]), 'predicted_1': int(cm[1, 1])}\n",
    "    }\n",
    "\n",
    "    return metrics, cm_dict\n",
    "\n",
    "\n",
    "metrics_train, cm_train = evaluate_model(grid_search, x_train, y_train, \"train\")\n",
    "metrics_test, cm_test = evaluate_model(grid_search, x_test, y_test, \"test\")\n",
    "\n",
    "metrics_list = [metrics_train, metrics_test, cm_train, cm_test]\n"
   ]
  },
  {
   "cell_type": "code",
   "execution_count": null,
   "id": "c29ff94c",
   "metadata": {},
   "outputs": [],
   "source": [
    "import json\n",
    "\n",
    "with open(\"../files/output/metrics.json\", \"w\") as f:\n",
    "    for line in metrics_list:\n",
    "        f.write(json.dumps(line) + \"\\n\")"
   ]
  }
 ],
 "metadata": {
  "kernelspec": {
   "display_name": ".venv",
   "language": "python",
   "name": "python3"
  },
  "language_info": {
   "codemirror_mode": {
    "name": "ipython",
    "version": 3
   },
   "file_extension": ".py",
   "mimetype": "text/x-python",
   "name": "python",
   "nbconvert_exporter": "python",
   "pygments_lexer": "ipython3",
   "version": "3.13.3"
  }
 },
 "nbformat": 4,
 "nbformat_minor": 5
}
